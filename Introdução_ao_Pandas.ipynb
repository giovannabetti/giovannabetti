{
  "nbformat": 4,
  "nbformat_minor": 0,
  "metadata": {
    "colab": {
      "name": "Introdução ao Pandas.ipynb",
      "provenance": [],
      "collapsed_sections": [],
      "include_colab_link": true
    },
    "kernelspec": {
      "name": "python3",
      "display_name": "Python 3"
    }
  },
  "cells": [
    {
      "cell_type": "markdown",
      "metadata": {
        "id": "view-in-github",
        "colab_type": "text"
      },
      "source": [
        "<a href=\"https://colab.research.google.com/github/giovannabetti/giovannabetti/blob/master/Introdu%C3%A7%C3%A3o_ao_Pandas.ipynb\" target=\"_parent\"><img src=\"https://colab.research.google.com/assets/colab-badge.svg\" alt=\"Open In Colab\"/></a>"
      ]
    },
    {
      "cell_type": "markdown",
      "metadata": {
        "id": "vvplGyW2N3rX"
      },
      "source": [
        "# Introdução ao Pandas\n",
        "\n",
        "Pandas é uma biblioteca do Python, provavelmente a mais popular de todas quando se trata de *Data Science*.\n",
        "\n",
        "Por meio do Pandas, você consegue importar dados (arquivos `csv`e `xls`, por exemplo), tratar esses dados, transformá-los e realizar análises completas dos mesmos.\n",
        "\n",
        "Uma vez que você importa um conjunto de dados usando Pandas, fica muito fácil fazer coisas do tipo:\n",
        "\n",
        "* Extrai informações estatísticas\n",
        "  * Qual a média, mediana, valores máximos e mínimos?\n",
        "  * Qual é a distribuição das suas variáveis?\n",
        "  * Qual a correlação entre duas variáveis quaisquer?\n",
        "* Exportar os dados para um novo formato de arquivo\n",
        "* Visualizar gráficos dos mais diferentes tipos\n",
        "* Alimentar modelos de *machine learning* feitos em cima do Scikit-learn\n",
        "\n",
        "Pandas é construído em cima de outra biblioteca extremamente popular, o **NumPy**. Quem já utilizou esta, vai encontrar muita similaridade com aquela."
      ]
    },
    {
      "cell_type": "markdown",
      "metadata": {
        "id": "NtGy-OuUS6ba"
      },
      "source": [
        "## Instalando e Utilizando Pandas\n",
        "\n",
        "Caso você esteja rodando o código na sua máquina local, o Pandas pode ser instalado pela linha de comando usando o seu gerenciador de pacotes (`pip` ou `conda`).\n",
        "\n",
        "Dependendo de qual deles seja, o comando que você deve usar é\n",
        "\n",
        "`pip install pandas`\n",
        "\n",
        "ou \n",
        "\n",
        "`conda install pandas`\n",
        "\n",
        "Como estamos usando o Colab neste curso, o Pandas vem instalado por padrão. Ou seja, a única coisa que você precisa é importar o pacote. Normalmente, para importar qualquer pacote basta apenas usar o comando `import nome_do_pacote`.\n",
        "\n",
        "No entanto, é muito comum a gente importar o Pandas usando `import pandas as pd` para abreviar o nome da biblioteca. Se você reparar em projetos de outros cientistas de dados, vai ver que esse é (provavelmente) a maneira que eles utilizam."
      ]
    },
    {
      "cell_type": "code",
      "metadata": {
        "id": "e3hcsBp1TdWE"
      },
      "source": [
        "# importar a biblioteca pandas\n",
        "import pandas as pd"
      ],
      "execution_count": null,
      "outputs": []
    },
    {
      "cell_type": "markdown",
      "metadata": {
        "id": "SQPlLLa_b4qC"
      },
      "source": [
        "Para dar um exemplo de como é simples importar dados com o Pandas, veja o seguinte exemplo.\n",
        "\n",
        "Pelo site [Yahoo Finance](https://finance.yahoo.com/quote/BBAS3.SA/history?p=BBAS3.SA), baixei os dados da ação ordinária do Banco do Brasil (BBAS3) em formato `csv` e disponibilizei o arquivo [neste link](https://raw.githubusercontent.com/carlosfab/curso_data_science_na_pratica/master/modulo_02/BBAS3.SA.csv). Se eu abrir esse arquivo na minha máquina pelo Excel, é assim que ele vai aparecer para mim:\n",
        "\n",
        "<center><img src=\"https://raw.githubusercontent.com/carlosfab/curso_data_science_na_pratica/master/modulo_02/bbas3_excel.png\" height=\"300px\"></center>\n",
        "\n",
        "Importar esse mesmo arquivo usando o Pandas é tão simples quanto executar a função `pd.read_csv(\"local_do_arquivo.csv\")`, informando qual o endereço que o `csv` se encontra (endereço na internet ou caminho na máquia local.\n",
        "\n"
      ]
    },
    {
      "cell_type": "code",
      "metadata": {
        "id": "ve_UpCilezaa"
      },
      "source": [
        "# importar o arquivo csv para o Pandas\n",
        "df = pd.read_csv(\"https://raw.githubusercontent.com/carlosfab/curso_data_science_na_pratica/master/modulo_02/BBAS3.SA.csv\")"
      ],
      "execution_count": null,
      "outputs": []
    },
    {
      "cell_type": "markdown",
      "metadata": {
        "id": "4A-F1ajofEjs"
      },
      "source": [
        "Pronto! O arquivo `BBAS3.SA.csv` foi importado com sucesso e já está pronto para ser usado neste *notebook*. \n",
        "\n",
        "Veja novamente a imagem acima. Basicamente, o arquivo que importamos se parece com uma simples tabela de Excel, composta por linhas e colunas. Para você ver o tamanho dessa \"tabela\", o que significa ver o formato (*shape*) dela, basta executar `df.shape`."
      ]
    },
    {
      "cell_type": "code",
      "metadata": {
        "id": "fkap8AgUgG-5",
        "colab": {
          "base_uri": "https://localhost:8080/",
          "height": 35
        },
        "outputId": "bccab9b4-7ba0-4f7c-cdcb-297e3069df37"
      },
      "source": [
        "# ver o tamanho do dataframe (formato)\n",
        "df.shape"
      ],
      "execution_count": null,
      "outputs": [
        {
          "output_type": "execute_result",
          "data": {
            "text/plain": [
              "(246, 7)"
            ]
          },
          "metadata": {
            "tags": []
          },
          "execution_count": 3
        }
      ]
    },
    {
      "cell_type": "markdown",
      "metadata": {
        "id": "-yQEWd6NgGxu"
      },
      "source": [
        "Quando você executar a célula acima, vai receber como *output* os valores `(246, 7)`. Isso significa que o arquivo importado possui 246 linhas e 7 colunas. "
      ]
    },
    {
      "cell_type": "markdown",
      "metadata": {
        "id": "z-5wV1LoUJqR"
      },
      "source": [
        "## Componentes básicos do Pandas\n",
        "\n",
        "Os dois componentes básicos que a gente deve conhecer quando lidando com Pandas são `Series` e `DataFrame`. \n",
        "\n",
        "<center><img src=\"https://raw.githubusercontent.com/carlosfab/curso_data_science_na_pratica/master/modulo_02/componentes_pandas.png\"></center>\n",
        "\n",
        "Simplificadamente, você pode pensar o `DataFrame` como sendo uma planilha de Excel, e `Series` como sendo apenas uma coluna individual.\n",
        "\n",
        "Apesar de parecer conceitualmente simples, estas duas estruturas nativas do Pandas facilitam muito o trabalho com dados, uma vez que elas podem armazenar qualquer tipo de dado.\n",
        "\n",
        "* `type()` - mostra qual o tipo da variável\n"
      ]
    },
    {
      "cell_type": "code",
      "metadata": {
        "id": "f-sqkuQwaRuc",
        "colab": {
          "base_uri": "https://localhost:8080/",
          "height": 35
        },
        "outputId": "77f0bdef-69ca-4867-a805-48950df6a716"
      },
      "source": [
        "# ver o tipo da variável df\n",
        "type(df)"
      ],
      "execution_count": null,
      "outputs": [
        {
          "output_type": "execute_result",
          "data": {
            "text/plain": [
              "pandas.core.frame.DataFrame"
            ]
          },
          "metadata": {
            "tags": []
          },
          "execution_count": 4
        }
      ]
    },
    {
      "cell_type": "code",
      "metadata": {
        "id": "8BPjwOX4hYk2",
        "colab": {
          "base_uri": "https://localhost:8080/",
          "height": 35
        },
        "outputId": "e0d76f0a-9405-470e-ca9d-4ff1dbfc1f37"
      },
      "source": [
        "# ver o tipo de uma coluna da variável df\n",
        "type(df['Date'])"
      ],
      "execution_count": null,
      "outputs": [
        {
          "output_type": "execute_result",
          "data": {
            "text/plain": [
              "pandas.core.series.Series"
            ]
          },
          "metadata": {
            "tags": []
          },
          "execution_count": 5
        }
      ]
    },
    {
      "cell_type": "markdown",
      "metadata": {
        "id": "PWKUeDZrwvVt"
      },
      "source": [
        "## Conhecendo os dados\n",
        "\n",
        "Uma vez que você importou a sua base de dados para o Pandas, existem muitos atributos e métodos nativos da estrutura *DataFrame* que facilitam muito a exploração de dados.\n",
        "\n",
        "Uma das principais funções da biblioteca, e que você irá usar em praticamente todos os seus projetos é `df.head()` e `df.tail()`.\n",
        "\n",
        "O arquivo `csv` com os dados da ação BBAS3 contém 246 linhas, mas o normal é você lidar com milhares ou centenas de milhares de linhas. Obviamente, seria inviável se tivessemos que olhar cada linha para entender como os dados estão apresentados.\n",
        "\n",
        "Na verdade, quando a gente importa um *dataset*, queremos dar uma olhadinha rápida em algumas entradas, só para ter noção dos dados que iremos lidar. Isso é feito facilmente com:\n",
        "\n",
        "* `df.head()` - exibe as 5 primeiras entradas do conjunto de dados\n",
        "* `df.tail()` - exibe as 5 últimas entradas do conjunto de dados"
      ]
    },
    {
      "cell_type": "code",
      "metadata": {
        "id": "24DU6xs3wu_Y",
        "colab": {
          "base_uri": "https://localhost:8080/",
          "height": 198
        },
        "outputId": "d823227e-58ca-4f87-9ef0-d8fd79d9b4f5"
      },
      "source": [
        "# mostrar as 5 primeiras entradas do DataFrame\n",
        "df.head()"
      ],
      "execution_count": null,
      "outputs": [
        {
          "output_type": "execute_result",
          "data": {
            "text/html": [
              "<div>\n",
              "<style scoped>\n",
              "    .dataframe tbody tr th:only-of-type {\n",
              "        vertical-align: middle;\n",
              "    }\n",
              "\n",
              "    .dataframe tbody tr th {\n",
              "        vertical-align: top;\n",
              "    }\n",
              "\n",
              "    .dataframe thead th {\n",
              "        text-align: right;\n",
              "    }\n",
              "</style>\n",
              "<table border=\"1\" class=\"dataframe\">\n",
              "  <thead>\n",
              "    <tr style=\"text-align: right;\">\n",
              "      <th></th>\n",
              "      <th>Date</th>\n",
              "      <th>Open</th>\n",
              "      <th>High</th>\n",
              "      <th>Low</th>\n",
              "      <th>Close</th>\n",
              "      <th>Adj Close</th>\n",
              "      <th>Volume</th>\n",
              "    </tr>\n",
              "  </thead>\n",
              "  <tbody>\n",
              "    <tr>\n",
              "      <th>0</th>\n",
              "      <td>2018-09-21</td>\n",
              "      <td>29.730000</td>\n",
              "      <td>30.580000</td>\n",
              "      <td>29.340000</td>\n",
              "      <td>30.580000</td>\n",
              "      <td>28.680056</td>\n",
              "      <td>16301600</td>\n",
              "    </tr>\n",
              "    <tr>\n",
              "      <th>1</th>\n",
              "      <td>2018-09-24</td>\n",
              "      <td>30.379999</td>\n",
              "      <td>30.700001</td>\n",
              "      <td>29.500000</td>\n",
              "      <td>29.730000</td>\n",
              "      <td>27.882866</td>\n",
              "      <td>13086900</td>\n",
              "    </tr>\n",
              "    <tr>\n",
              "      <th>2</th>\n",
              "      <td>2018-09-25</td>\n",
              "      <td>29.030001</td>\n",
              "      <td>29.760000</td>\n",
              "      <td>28.809999</td>\n",
              "      <td>29.549999</td>\n",
              "      <td>27.714045</td>\n",
              "      <td>11742900</td>\n",
              "    </tr>\n",
              "    <tr>\n",
              "      <th>3</th>\n",
              "      <td>2018-09-26</td>\n",
              "      <td>29.650000</td>\n",
              "      <td>29.969999</td>\n",
              "      <td>29.209999</td>\n",
              "      <td>29.450001</td>\n",
              "      <td>27.620264</td>\n",
              "      <td>12842400</td>\n",
              "    </tr>\n",
              "    <tr>\n",
              "      <th>4</th>\n",
              "      <td>2018-09-27</td>\n",
              "      <td>29.680000</td>\n",
              "      <td>30.299999</td>\n",
              "      <td>29.680000</td>\n",
              "      <td>30.290001</td>\n",
              "      <td>28.408072</td>\n",
              "      <td>8767900</td>\n",
              "    </tr>\n",
              "  </tbody>\n",
              "</table>\n",
              "</div>"
            ],
            "text/plain": [
              "         Date       Open       High        Low      Close  Adj Close    Volume\n",
              "0  2018-09-21  29.730000  30.580000  29.340000  30.580000  28.680056  16301600\n",
              "1  2018-09-24  30.379999  30.700001  29.500000  29.730000  27.882866  13086900\n",
              "2  2018-09-25  29.030001  29.760000  28.809999  29.549999  27.714045  11742900\n",
              "3  2018-09-26  29.650000  29.969999  29.209999  29.450001  27.620264  12842400\n",
              "4  2018-09-27  29.680000  30.299999  29.680000  30.290001  28.408072   8767900"
            ]
          },
          "metadata": {
            "tags": []
          },
          "execution_count": 6
        }
      ]
    },
    {
      "cell_type": "code",
      "metadata": {
        "id": "TGf020rXwu0T",
        "colab": {
          "base_uri": "https://localhost:8080/",
          "height": 198
        },
        "outputId": "fe617ad1-0152-41e0-9170-de3d66b19a73"
      },
      "source": [
        "# mostrar as 5 últimas entradas do DataFrame\n",
        "df.tail()"
      ],
      "execution_count": null,
      "outputs": [
        {
          "output_type": "execute_result",
          "data": {
            "text/html": [
              "<div>\n",
              "<style scoped>\n",
              "    .dataframe tbody tr th:only-of-type {\n",
              "        vertical-align: middle;\n",
              "    }\n",
              "\n",
              "    .dataframe tbody tr th {\n",
              "        vertical-align: top;\n",
              "    }\n",
              "\n",
              "    .dataframe thead th {\n",
              "        text-align: right;\n",
              "    }\n",
              "</style>\n",
              "<table border=\"1\" class=\"dataframe\">\n",
              "  <thead>\n",
              "    <tr style=\"text-align: right;\">\n",
              "      <th></th>\n",
              "      <th>Date</th>\n",
              "      <th>Open</th>\n",
              "      <th>High</th>\n",
              "      <th>Low</th>\n",
              "      <th>Close</th>\n",
              "      <th>Adj Close</th>\n",
              "      <th>Volume</th>\n",
              "    </tr>\n",
              "  </thead>\n",
              "  <tbody>\n",
              "    <tr>\n",
              "      <th>241</th>\n",
              "      <td>2019-09-16</td>\n",
              "      <td>47.040001</td>\n",
              "      <td>47.560001</td>\n",
              "      <td>46.299999</td>\n",
              "      <td>46.650002</td>\n",
              "      <td>46.650002</td>\n",
              "      <td>8175500</td>\n",
              "    </tr>\n",
              "    <tr>\n",
              "      <th>242</th>\n",
              "      <td>2019-09-17</td>\n",
              "      <td>46.389999</td>\n",
              "      <td>47.450001</td>\n",
              "      <td>46.119999</td>\n",
              "      <td>47.299999</td>\n",
              "      <td>47.299999</td>\n",
              "      <td>6744200</td>\n",
              "    </tr>\n",
              "    <tr>\n",
              "      <th>243</th>\n",
              "      <td>2019-09-18</td>\n",
              "      <td>47.459999</td>\n",
              "      <td>48.250000</td>\n",
              "      <td>47.160000</td>\n",
              "      <td>48.020000</td>\n",
              "      <td>48.020000</td>\n",
              "      <td>8528300</td>\n",
              "    </tr>\n",
              "    <tr>\n",
              "      <th>244</th>\n",
              "      <td>2019-09-19</td>\n",
              "      <td>48.410000</td>\n",
              "      <td>48.700001</td>\n",
              "      <td>46.770000</td>\n",
              "      <td>46.770000</td>\n",
              "      <td>46.770000</td>\n",
              "      <td>9661800</td>\n",
              "    </tr>\n",
              "    <tr>\n",
              "      <th>245</th>\n",
              "      <td>2019-09-20</td>\n",
              "      <td>47.000000</td>\n",
              "      <td>47.980000</td>\n",
              "      <td>46.900002</td>\n",
              "      <td>47.509998</td>\n",
              "      <td>47.509998</td>\n",
              "      <td>15284500</td>\n",
              "    </tr>\n",
              "  </tbody>\n",
              "</table>\n",
              "</div>"
            ],
            "text/plain": [
              "           Date       Open       High  ...      Close  Adj Close    Volume\n",
              "241  2019-09-16  47.040001  47.560001  ...  46.650002  46.650002   8175500\n",
              "242  2019-09-17  46.389999  47.450001  ...  47.299999  47.299999   6744200\n",
              "243  2019-09-18  47.459999  48.250000  ...  48.020000  48.020000   8528300\n",
              "244  2019-09-19  48.410000  48.700001  ...  46.770000  46.770000   9661800\n",
              "245  2019-09-20  47.000000  47.980000  ...  47.509998  47.509998  15284500\n",
              "\n",
              "[5 rows x 7 columns]"
            ]
          },
          "metadata": {
            "tags": []
          },
          "execution_count": 7
        }
      ]
    },
    {
      "cell_type": "markdown",
      "metadata": {
        "id": "GLuYhDec-Dfs"
      },
      "source": [
        "Um dos motivos da popularidade do Pandas é por causa dessa capacidade de conseguir mostrar os dados como se estivessem em uma tabela, um formato bem amigável para a compreensão do nosso cérebro.\n",
        "\n",
        "Compare com aquela imagem lá em cima, do Excel. É um formato que estamos bem habituados a enxergar.\n",
        "\n",
        "Vamos supor que você precise extrair apenas os nomes das colunas do seu *DataFrame* - basta executar:"
      ]
    },
    {
      "cell_type": "code",
      "metadata": {
        "id": "8pHWD2yEwun0",
        "colab": {
          "base_uri": "https://localhost:8080/",
          "height": 55
        },
        "outputId": "97fa3a54-788e-4176-a5a7-fb6369883900"
      },
      "source": [
        "# ver os nomes das colunas\n",
        "df.columns"
      ],
      "execution_count": null,
      "outputs": [
        {
          "output_type": "execute_result",
          "data": {
            "text/plain": [
              "Index(['Date', 'Open', 'High', 'Low', 'Close', 'Adj Close', 'Volume'], dtype='object')"
            ]
          },
          "metadata": {
            "tags": []
          },
          "execution_count": 8
        }
      ]
    },
    {
      "cell_type": "markdown",
      "metadata": {
        "id": "6gqXaGSfwucC"
      },
      "source": [
        "Há diversas maneiras de selecionar um sub-conjunto de dados em uma estrutura *DataFrame*.\n",
        "\n",
        "Na maioria dos casos, o que queremos fazer é selecionar apenas uma coluna de todo o *DataFrame*.\n",
        "\n",
        "Para selecionar uma variável, você deve colocar o nome da coluna entre colchetes, referenciando a variável onde os seus dados foram importados."
      ]
    },
    {
      "cell_type": "code",
      "metadata": {
        "id": "zkorkp4_wuRf",
        "colab": {
          "base_uri": "https://localhost:8080/",
          "height": 1000
        },
        "outputId": "235b0634-1cd4-4e14-a57a-ecc6cf5b4911"
      },
      "source": [
        "# selecionar a variável (coluna) \"High\" da nossa variável df\n",
        "df[\"High\"]"
      ],
      "execution_count": null,
      "outputs": [
        {
          "output_type": "execute_result",
          "data": {
            "text/plain": [
              "0      30.580000\n",
              "1      30.700001\n",
              "2      29.760000\n",
              "3      29.969999\n",
              "4      30.299999\n",
              "5      29.980000\n",
              "6      29.760000\n",
              "7      31.559999\n",
              "8      35.419998\n",
              "9      35.880001\n",
              "10     36.290001\n",
              "11     40.750000\n",
              "12     39.700001\n",
              "13     38.200001\n",
              "14     38.169998\n",
              "15     38.439999\n",
              "16     39.500000\n",
              "17     39.740002\n",
              "18     39.980000\n",
              "19     39.860001\n",
              "20     40.240002\n",
              "21     40.189999\n",
              "22     40.320000\n",
              "23     40.349998\n",
              "24     42.570000\n",
              "25     43.400002\n",
              "26     43.400002\n",
              "27     43.599998\n",
              "28     43.560001\n",
              "29     43.590000\n",
              "         ...    \n",
              "216    47.799999\n",
              "217    48.250000\n",
              "218    47.070000\n",
              "219    46.639999\n",
              "220    46.549999\n",
              "221    46.689999\n",
              "222    45.180000\n",
              "223    47.459999\n",
              "224    47.560001\n",
              "225    46.540001\n",
              "226    45.700001\n",
              "227    45.599998\n",
              "228    44.299999\n",
              "229    45.220001\n",
              "230    46.560001\n",
              "231    46.790001\n",
              "232    46.320000\n",
              "233    45.930000\n",
              "234    47.779999\n",
              "235    49.389999\n",
              "236    50.529999\n",
              "237    50.500000\n",
              "238    49.970001\n",
              "239    48.369999\n",
              "240    48.500000\n",
              "241    47.560001\n",
              "242    47.450001\n",
              "243    48.250000\n",
              "244    48.700001\n",
              "245    47.980000\n",
              "Name: High, Length: 246, dtype: float64"
            ]
          },
          "metadata": {
            "tags": []
          },
          "execution_count": 9
        }
      ]
    },
    {
      "cell_type": "markdown",
      "metadata": {
        "id": "rro80XstwuFi"
      },
      "source": [
        "Quando executamos o código `df[\"High\"]`, você viu acima que foi impressa apenas a coluna de valores `High`. Para encontrar a média desses valores, basta utilizar:"
      ]
    },
    {
      "cell_type": "code",
      "metadata": {
        "id": "drcpq2FXwt5w",
        "colab": {
          "base_uri": "https://localhost:8080/",
          "height": 35
        },
        "outputId": "266281f5-5bf9-4b00-b648-20eb5c1633ca"
      },
      "source": [
        "# calcular a média da coluna \"High\"\n",
        "df[\"High\"].mean()"
      ],
      "execution_count": null,
      "outputs": [
        {
          "output_type": "execute_result",
          "data": {
            "text/plain": [
              "48.15211368292682"
            ]
          },
          "metadata": {
            "tags": []
          },
          "execution_count": 10
        }
      ]
    },
    {
      "cell_type": "markdown",
      "metadata": {
        "id": "qlAqNkaOwtug"
      },
      "source": [
        "Isso significa que a média dos valores da coluna `High` é `48.15211368292682`. Como vamos ver ao longo do curso, existem muitas outras medidas importantes."
      ]
    }
  ]
}