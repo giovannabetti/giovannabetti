{
  "nbformat": 4,
  "nbformat_minor": 0,
  "metadata": {
    "colab": {
      "name": "Visualização de Dados com Pandas.ipynb",
      "provenance": [],
      "collapsed_sections": [],
      "include_colab_link": true
    },
    "kernelspec": {
      "name": "python3",
      "display_name": "Python 3"
    }
  },
  "cells": [
    {
      "cell_type": "markdown",
      "metadata": {
        "id": "view-in-github",
        "colab_type": "text"
      },
      "source": [
        "<a href=\"https://colab.research.google.com/github/giovannabetti/giovannabetti/blob/master/Visualiza%C3%A7%C3%A3o_de_Dados_com_Pandas.ipynb\" target=\"_parent\"><img src=\"https://colab.research.google.com/assets/colab-badge.svg\" alt=\"Open In Colab\"/></a>"
      ]
    },
    {
      "cell_type": "markdown",
      "metadata": {
        "id": "vvplGyW2N3rX"
      },
      "source": [
        "# Visualização de Dados com Pandas\n",
        "\n",
        "Visualização de dados é algo muito importante para um projeto de *Data Science*.\n",
        "\n",
        "Apesar de termos o Módulo 3 totalmente dedicado a essa finalidade, queria dar uma breve introdução de como o próprio Pandas é capaz de plotar gráficos a partir de um *DataFrame*.\n",
        "\n",
        "Como exemplo, vamos importar mais uma vez os dados da ação BBAS3 do `csv`. No entanto, desta vez vamos fazer uma coisa diferente.\n",
        "\n",
        "Como cada linha representa um dia de pregão da Bolsa de Valores, faz sentido que nosso índice (*index*) seja a coluna `Date`. Também quero que o Pandas leia essa coluna como sendo uma data, convertendo `strings` do tipo `2018-09-21` em variáveis do tipo `datetime`."
      ]
    },
    {
      "cell_type": "code",
      "metadata": {
        "id": "z2RlG83ekNgO",
        "colab": {
          "base_uri": "https://localhost:8080/",
          "height": 227
        },
        "outputId": "1fc6991f-487f-4f87-de26-bf27fe0a4ad9"
      },
      "source": [
        "# importar pandas\n",
        "import pandas as pd\n",
        "\n",
        "# importar o arquivo csv para o Pandas\n",
        "df = pd.read_csv(\"https://raw.githubusercontent.com/carlosfab/curso_data_science_na_pratica/master/modulo_02/BBAS3.SA.csv\",\n",
        "                parse_dates=True, index_col='Date')\n",
        "\n",
        "# ver as primeiras entradas\n",
        "df.head()"
      ],
      "execution_count": null,
      "outputs": [
        {
          "output_type": "execute_result",
          "data": {
            "text/html": [
              "<div>\n",
              "<style scoped>\n",
              "    .dataframe tbody tr th:only-of-type {\n",
              "        vertical-align: middle;\n",
              "    }\n",
              "\n",
              "    .dataframe tbody tr th {\n",
              "        vertical-align: top;\n",
              "    }\n",
              "\n",
              "    .dataframe thead th {\n",
              "        text-align: right;\n",
              "    }\n",
              "</style>\n",
              "<table border=\"1\" class=\"dataframe\">\n",
              "  <thead>\n",
              "    <tr style=\"text-align: right;\">\n",
              "      <th></th>\n",
              "      <th>Open</th>\n",
              "      <th>High</th>\n",
              "      <th>Low</th>\n",
              "      <th>Close</th>\n",
              "      <th>Adj Close</th>\n",
              "      <th>Volume</th>\n",
              "    </tr>\n",
              "    <tr>\n",
              "      <th>Date</th>\n",
              "      <th></th>\n",
              "      <th></th>\n",
              "      <th></th>\n",
              "      <th></th>\n",
              "      <th></th>\n",
              "      <th></th>\n",
              "    </tr>\n",
              "  </thead>\n",
              "  <tbody>\n",
              "    <tr>\n",
              "      <th>2018-09-21</th>\n",
              "      <td>29.730000</td>\n",
              "      <td>30.580000</td>\n",
              "      <td>29.340000</td>\n",
              "      <td>30.580000</td>\n",
              "      <td>28.680056</td>\n",
              "      <td>16301600</td>\n",
              "    </tr>\n",
              "    <tr>\n",
              "      <th>2018-09-24</th>\n",
              "      <td>30.379999</td>\n",
              "      <td>30.700001</td>\n",
              "      <td>29.500000</td>\n",
              "      <td>29.730000</td>\n",
              "      <td>27.882866</td>\n",
              "      <td>13086900</td>\n",
              "    </tr>\n",
              "    <tr>\n",
              "      <th>2018-09-25</th>\n",
              "      <td>29.030001</td>\n",
              "      <td>29.760000</td>\n",
              "      <td>28.809999</td>\n",
              "      <td>29.549999</td>\n",
              "      <td>27.714045</td>\n",
              "      <td>11742900</td>\n",
              "    </tr>\n",
              "    <tr>\n",
              "      <th>2018-09-26</th>\n",
              "      <td>29.650000</td>\n",
              "      <td>29.969999</td>\n",
              "      <td>29.209999</td>\n",
              "      <td>29.450001</td>\n",
              "      <td>27.620264</td>\n",
              "      <td>12842400</td>\n",
              "    </tr>\n",
              "    <tr>\n",
              "      <th>2018-09-27</th>\n",
              "      <td>29.680000</td>\n",
              "      <td>30.299999</td>\n",
              "      <td>29.680000</td>\n",
              "      <td>30.290001</td>\n",
              "      <td>28.408072</td>\n",
              "      <td>8767900</td>\n",
              "    </tr>\n",
              "  </tbody>\n",
              "</table>\n",
              "</div>"
            ],
            "text/plain": [
              "                 Open       High        Low      Close  Adj Close    Volume\n",
              "Date                                                                       \n",
              "2018-09-21  29.730000  30.580000  29.340000  30.580000  28.680056  16301600\n",
              "2018-09-24  30.379999  30.700001  29.500000  29.730000  27.882866  13086900\n",
              "2018-09-25  29.030001  29.760000  28.809999  29.549999  27.714045  11742900\n",
              "2018-09-26  29.650000  29.969999  29.209999  29.450001  27.620264  12842400\n",
              "2018-09-27  29.680000  30.299999  29.680000  30.290001  28.408072   8767900"
            ]
          },
          "metadata": {
            "tags": []
          },
          "execution_count": 1
        }
      ]
    },
    {
      "cell_type": "code",
      "metadata": {
        "id": "4kBKcFR4kR7S",
        "colab": {
          "base_uri": "https://localhost:8080/",
          "height": 158
        },
        "outputId": "d1978129-3a5f-4ffb-d8ab-f1af5b11f859"
      },
      "source": [
        "# o index se tornou um datetime\n",
        "df.index"
      ],
      "execution_count": null,
      "outputs": [
        {
          "output_type": "execute_result",
          "data": {
            "text/plain": [
              "DatetimeIndex(['2018-09-21', '2018-09-24', '2018-09-25', '2018-09-26',\n",
              "               '2018-09-27', '2018-09-28', '2018-10-01', '2018-10-02',\n",
              "               '2018-10-03', '2018-10-04',\n",
              "               ...\n",
              "               '2019-09-09', '2019-09-10', '2019-09-11', '2019-09-12',\n",
              "               '2019-09-13', '2019-09-16', '2019-09-17', '2019-09-18',\n",
              "               '2019-09-19', '2019-09-20'],\n",
              "              dtype='datetime64[ns]', name='Date', length=246, freq=None)"
            ]
          },
          "metadata": {
            "tags": []
          },
          "execution_count": 2
        }
      ]
    },
    {
      "cell_type": "markdown",
      "metadata": {
        "id": "QgGsz5Zqo1BO"
      },
      "source": [
        "## Gráfico de Linhas\n",
        "\n",
        "Vamos supor que você quisesse visualizar como foram as máximas das ações do Banco do Brasil.\n",
        "\n",
        "Vimos lá atrás que é possível selecionar apenas uma coluna de um *DataFrame*. Neste exemplo, vou selecionar a variável `High` usando `df['High']'.\n",
        "\n",
        "Em seguida, a unica coisa que eu faço é executar o método `plot()`"
      ]
    },
    {
      "cell_type": "code",
      "metadata": {
        "id": "NL_s3octmF1U",
        "colab": {
          "base_uri": "https://localhost:8080/",
          "height": 281
        },
        "outputId": "9fb2b862-c6f5-461f-dc2d-20c6286e089d"
      },
      "source": [
        "df['High'].plot();"
      ],
      "execution_count": null,
      "outputs": [
        {
          "output_type": "display_data",
          "data": {
            "image/png": "[encoded data removed]",
            "text/plain": [
              "<Figure size 432x288 with 1 Axes>"
            ]
          },
          "metadata": {
            "tags": []
          }
        }
      ]
    },
    {
      "cell_type": "markdown",
      "metadata": {
        "id": "UkXp_fRgqjiS"
      },
      "source": [
        "## Histograma\n",
        "\n",
        "Quando se quer ter uma noção de quantas vezes uma determinada informação aparece no conjunto de dados, plotar o histograma pode ser de grande valor.\n",
        "\n",
        "Histogramas são uma das principais ferramentas da estatística para extrair informações sobre frequencia e distribuição dos nossos dados. Ele é conceitualmente bem simples. Se você nunca teve contato com esse tipo de gráfico, recomendo assistir a [este vídeo da Khan Academy](https://www.youtube.com/watch?v=L0f8d3B8dk4).\n",
        "\n",
        "Vamos plotar o histograma do volume movimentado para as ações do BBAS3."
      ]
    },
    {
      "cell_type": "code",
      "metadata": {
        "id": "qDQLDEjEmf2q",
        "colab": {
          "base_uri": "https://localhost:8080/",
          "height": 282
        },
        "outputId": "2ba0791f-d688-491c-df43-24b37daddb81"
      },
      "source": [
        "# plotar histograma do volume\n",
        "df['Volume'].hist();"
      ],
      "execution_count": null,
      "outputs": [
        {
          "output_type": "display_data",
          "data": {
            "image/png": "[encoded data removed]",
            "text/plain": [
              "<Figure size 432x288 with 1 Axes>"
            ]
          },
          "metadata": {
            "tags": []
          }
        }
      ]
    },
    {
      "cell_type": "markdown",
      "metadata": {
        "id": "EiUdSrcaqgLq"
      },
      "source": [
        "## Gráfico de Dispersão (*Scatter Plot*)\n",
        "\n",
        "O gráfico de dispersão é um gráfico ideal para ver a correlação entre duas variáveis quaisquer.\n",
        "\n",
        "Serve não apenas para mostrar quanto uma variável é afetada por outra, mas também para plotar coordenadas geográficas (como foi feito no projeto do Módulo 1)."
      ]
    },
    {
      "cell_type": "code",
      "metadata": {
        "id": "zI75SRm-smMe",
        "colab": {
          "base_uri": "https://localhost:8080/",
          "height": 301
        },
        "outputId": "30fcdc15-9786-4259-c91e-6064114222b2"
      },
      "source": [
        "# plotar gráfico de dispersão entre as máximas e mínimas\n",
        "df.plot.scatter('Low', 'High')"
      ],
      "execution_count": null,
      "outputs": [
        {
          "output_type": "execute_result",
          "data": {
            "text/plain": [
              "<matplotlib.axes._subplots.AxesSubplot at 0x7f73bd1b8c18>"
            ]
          },
          "metadata": {
            "tags": []
          },
          "execution_count": 5
        },
        {
          "output_type": "display_data",
          "data": {
            "image/png": "[encoded data removed]",
            "text/plain": [
              "<Figure size 432x288 with 1 Axes>"
            ]
          },
          "metadata": {
            "tags": []
          }
        }
      ]
    },
    {
      "cell_type": "markdown",
      "metadata": {
        "id": "kfYfXZuMsoAk"
      },
      "source": [
        "## Boxplot\n",
        "\n",
        "Boxplot é um dos tipos de gráficos que conseguem fornecer o maior número de informações estatísticas de uma vez só.\n",
        "\n",
        "<center><img src=\"https://pro.arcgis.com/en/pro-app/help/analysis/geoprocessing/charts/GUID-0E2C3730-C535-40CD-8152-80D794A996A7-web.png\" height=\"200px\"></center>\n",
        "\n",
        "É possível ter em uma imagem os valores máximos, mínimos, quartis e mediana. *Outliers* também são representados como pontos acima do valor máximo ou abaixo do valor mínimo"
      ]
    },
    {
      "cell_type": "code",
      "metadata": {
        "id": "71yeEn7nY_AT",
        "colab": {
          "base_uri": "https://localhost:8080/",
          "height": 268
        },
        "outputId": "b7c8f745-0299-4871-db57-d1736864d826"
      },
      "source": [
        "# plotar o boxplot para os valores máximos da ação\n",
        "df.High.plot(kind=\"box\");"
      ],
      "execution_count": null,
      "outputs": [
        {
          "output_type": "display_data",
          "data": {
            "image/png": "[encoded data removed]",
            "text/plain": [
              "<Figure size 432x288 with 1 Axes>"
            ]
          },
          "metadata": {
            "tags": []
          }
        }
      ]
    }
  ]
}